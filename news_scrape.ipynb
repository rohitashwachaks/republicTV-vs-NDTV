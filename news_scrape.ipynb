{
 "cells": [
  {
   "cell_type": "code",
   "execution_count": null,
   "metadata": {},
   "outputs": [],
   "source": [
    "from selenium import webdriver\n",
    "import pandas as pd\n",
    "from tqdm import tqdm\n",
    "import time\n",
    "from functools import reduce\n",
    "import concurrent.futures"
   ]
  },
  {
   "cell_type": "code",
   "execution_count": null,
   "metadata": {},
   "outputs": [],
   "source": [
    "filename = 'ndtv'\n",
    "data = pd.read_csv(filename+'.csv')\n",
    "print(data.shape)\n",
    "data.head(7)"
   ]
  },
  {
   "cell_type": "code",
   "execution_count": null,
   "metadata": {},
   "outputs": [],
   "source": [
    "degree_parellalism = 5\n",
    "batch_size = 50\n",
    "urllist = data[\"url\"]"
   ]
  },
  {
   "cell_type": "code",
   "execution_count": null,
   "metadata": {},
   "outputs": [],
   "source": [
    "def get_content(url_batch, pbar, tid = \"mainThread\"):\n",
    "    driver = webdriver.Chrome(executable_path = '../utils/chromedriver')  # Ofline Mode\n",
    "    # driver = webdriver.Chrome('chromedriver',options=chrome_options)    # Collab Mode\n",
    "    title, content = [], []\n",
    "    for url in url_batch[0]:\n",
    "      if filename in url:\n",
    "        try:\n",
    "          driver.get(url)\n",
    "          title.append(driver.find_element_by_xpath('/html/body/div[2]/div/div/section/div[2]/div[1]/h1').text)\n",
    "          content.append(' '.join([item.text for item in driver.find_elements_by_xpath('//*[@id=\"ins_storybody\"]/p')]))\n",
    "        except:\n",
    "          ;\n",
    "      pbar.update(1)\n",
    "    driver.close()\n",
    "    return title, content\n",
    "\n",
    "#Distribute regions for the multiple threads\n",
    "def BatchGenerator(l, n):\n",
    "    tid = 0\n",
    "    for i in range(0, len(l), n):\n",
    "        tid = tid + 1\n",
    "        yield (l[i:i + n], 'Thread_'+str(tid))\n",
    "\n",
    "def structure_data(content):\n",
    "    title, body = list(map(list,zip(*content)))\n",
    "    return [(title,body)]"
   ]
  },
  {
   "cell_type": "code",
   "execution_count": null,
   "metadata": {},
   "outputs": [],
   "source": [
    "with tqdm(total=len(urllist)) as pbar:\n",
    "    with concurrent.futures.ThreadPoolExecutor(max_workers=degree_parellalism) as executor:\n",
    "        futures = [executor.submit(get_content, param, pbar) for param in BatchGenerator(urllist, batch_size)]\n",
    "        return_value = [f.result() for f in futures]"
   ]
  },
  {
   "cell_type": "code",
   "execution_count": null,
   "metadata": {},
   "outputs": [],
   "source": [
    "t = reduce(lambda a,b:((structure_data(a)).extend(structure_data(b))), return_value)\n",
    "l = pd.DataFrame(t).T\n",
    "l.columns = [\"Title\",\"Content\"]\n",
    "# l.to_csv(filename+'scraped.csv')\n",
    "l"
   ]
  },
  {
   "cell_type": "code",
   "execution_count": null,
   "metadata": {},
   "outputs": [],
   "source": [
    "driver = webdriver.Chrome(executable_path = '../utils/chromedriver')  # Ofline Mode\n",
    "driver.close()\n"
   ]
  },
  {
   "cell_type": "code",
   "execution_count": null,
   "metadata": {},
   "outputs": [],
   "source": []
  }
 ],
 "metadata": {
  "interpreter": {
   "hash": "54b9769055b2abe69fb4ce5ab7fa4123a6de683d2d4c31dd5a38825ec84a357d"
  },
  "kernelspec": {
   "display_name": "Python 3.9.7 64-bit ('barua_proj': conda)",
   "name": "python3"
  },
  "language_info": {
   "codemirror_mode": {
    "name": "ipython",
    "version": 3
   },
   "file_extension": ".py",
   "mimetype": "text/x-python",
   "name": "python",
   "nbconvert_exporter": "python",
   "pygments_lexer": "ipython3",
   "version": "3.9.7"
  },
  "orig_nbformat": 4
 },
 "nbformat": 4,
 "nbformat_minor": 2
}
